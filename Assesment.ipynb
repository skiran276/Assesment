{
 "cells": [
  {
   "cell_type": "markdown",
   "id": "31d3b2c3",
   "metadata": {},
   "source": [
    "1) Create a function in python to read the text file and replace specific content\n",
    "of the file."
   ]
  },
  {
   "cell_type": "code",
   "execution_count": 1,
   "id": "f34585fd",
   "metadata": {},
   "outputs": [
    {
     "name": "stdout",
     "output_type": "stream",
     "text": [
      "Original file content:This is a placement assignment\n",
      "Replaced file content:This is a screening assignment\n",
      "\n"
     ]
    }
   ],
   "source": [
    "def main():\n",
    "    origin_file_content=input('Original file content:')\n",
    "\n",
    "    \n",
    "    myfile=open('example.txt','w')\n",
    "    \n",
    "    myfile.write(origin_file_content+'\\n')\n",
    "    with open('example.txt','r') as myfile:\n",
    "        filedata=myfile.read()\n",
    "    \n",
    "   \n",
    "    filedata=filedata.replace('placement','screening')\n",
    "    \n",
    "    with open('example.txt','w') as myfile:\n",
    "        myfile.write(filedata)\n",
    "        print('Replaced file content:{}'.format(filedata))\n",
    "    \n",
    "    return\n",
    "\n",
    "if __name__==\"__main__\":\n",
    "    main()"
   ]
  },
  {
   "cell_type": "markdown",
   "id": "0c521bed",
   "metadata": {},
   "source": [
    "2. Demonstrate use of abstract class, multiple inheritance and decorator in\n",
    "python using examples."
   ]
  },
  {
   "cell_type": "markdown",
   "id": "2339d82e",
   "metadata": {},
   "source": [
    "* abstract class:\n",
    "An abstract class can be considered as a blueprint for other classes. It allows you to create a set of methods that must be created within any child classes built from the abstract class. A class which contains one or more abstract methods is called an abstract class\n",
    "\n",
    "* multiple inheritance:\n",
    "Multiple inheritance is useful when a subclass needs to combine multiple contracts and inherit some, or all, of the implementation of those contracts\n",
    "\n",
    "* decorator:\n",
    "A decorator in Python is a function that takes another function as its argument, and returns yet another function . Decorators can be extremely useful as they allow the extension of an existing function, without any modification to the original function source code."
   ]
  },
  {
   "cell_type": "code",
   "execution_count": 7,
   "id": "3cb94885",
   "metadata": {},
   "outputs": [
    {
     "name": "stdout",
     "output_type": "stream",
     "text": [
      "Welcome to bank\n",
      "In SBI bank 5 rupees interest\n",
      "Welcome to bank\n",
      "In HDFC 7 rupees interest\n"
     ]
    }
   ],
   "source": [
    "from abc import ABC, abstractmethod\n",
    "#Abstract Class\n",
    "class Bank(ABC):\n",
    "   def bank_info(self):\n",
    "       print(\"Welcome to bank\")\n",
    "   @abstractmethod\n",
    "   def interest(self):\n",
    "       \"Abstarct Method\"\n",
    "       pass\n",
    "   def offers(self):\n",
    "       print(\"Providing offers\")  \n",
    "#Sub class/ child class of abstract class\n",
    "class SBI(Bank):\n",
    "   def interest(self):\n",
    "       print(\"In SBI bank 5 rupees interest\")\n",
    "class HDFC(Bank):\n",
    "   def interest(self):\n",
    "       print(\"In HDFC 7 rupees interest\")\n",
    "  \n",
    "s= SBI()\n",
    "h=HDFC()\n",
    "s.bank_info()\n",
    "s.interest()\n",
    "h.bank_info()\n",
    "h.interest()"
   ]
  },
  {
   "cell_type": "code",
   "execution_count": 9,
   "id": "2f200342",
   "metadata": {},
   "outputs": [
    {
     "name": "stdout",
     "output_type": "stream",
     "text": [
      "square:  9\n",
      "cube:  125\n"
     ]
    }
   ],
   "source": [
    "from abc import ABC, abstractmethod\n",
    "class One(ABC):\n",
    "   @abstractmethod\n",
    "   def calculate(self, a):\n",
    "       pass\n",
    "   def m1(self):\n",
    "       print(\"implemented method\")\n",
    "class Square(One):\n",
    "   def calculate(self, a):\n",
    "       print(\"square: \", (a*a))\n",
    "class Cube(One):\n",
    "   def calculate(self, a):\n",
    "       print(\"cube: \", (a*a*a))\n",
    "s = Square()\n",
    "c = Cube()\n",
    "s.calculate(3)\n",
    "c.calculate(5)"
   ]
  }
 ],
 "metadata": {
  "kernelspec": {
   "display_name": "Python 3 (ipykernel)",
   "language": "python",
   "name": "python3"
  },
  "language_info": {
   "codemirror_mode": {
    "name": "ipython",
    "version": 3
   },
   "file_extension": ".py",
   "mimetype": "text/x-python",
   "name": "python",
   "nbconvert_exporter": "python",
   "pygments_lexer": "ipython3",
   "version": "3.9.12"
  }
 },
 "nbformat": 4,
 "nbformat_minor": 5
}
