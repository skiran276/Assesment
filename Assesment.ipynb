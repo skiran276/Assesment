{
 "cells": [
  {
   "cell_type": "markdown",
   "id": "31d3b2c3",
   "metadata": {},
   "source": [
    "1) Create a function in python to read the text file and replace specific content\n",
    "of the file."
   ]
  },
  {
   "cell_type": "code",
   "execution_count": 4,
   "id": "23d0dff0",
   "metadata": {},
   "outputs": [
    {
     "name": "stdout",
     "output_type": "stream",
     "text": [
      "After Replacing :  This is a screening assignment\n"
     ]
    }
   ],
   "source": [
    "## FUNCTION\n",
    "def read_replace(find_text, replace_text, filename):\n",
    "  with open(filename, 'r') as myfile:\n",
    "    readtext = myfile.read()\n",
    "    replace = readtext.replace(find_text, replace_text)\n",
    "  with open(filename, 'w') as file:\n",
    "    file.write(replace)\n",
    "  return 'placement is replaced by screening'\n",
    "\n",
    "# write file with Origin file content\n",
    "with open('example.txt', 'w') as f:\n",
    "  f.write('This is a placement assignment')\n",
    "\n",
    "# Using the read_replace function to replace string\n",
    "read_replace('placement','screening', 'example.txt')\n",
    "with open('example.txt', 'r') as f:\n",
    "  print('After Replacing : ' , f.read())"
   ]
  },
  {
   "cell_type": "markdown",
   "id": "0c521bed",
   "metadata": {},
   "source": [
    "2. Demonstrate use of abstract class, multiple inheritance and decorator in\n",
    "python using examples."
   ]
  },
  {
   "cell_type": "markdown",
   "id": "2339d82e",
   "metadata": {},
   "source": [
    "* abstract class:\n",
    "An abstract class can be considered as a blueprint for other classes. It allows you to create a set of methods that must be created within any child classes built from the abstract class. A class which contains one or more abstract methods is called an abstract class\n",
    "\n",
    "* multiple inheritance:\n",
    "Multiple inheritance is useful when a subclass needs to combine multiple contracts and inherit some, or all, of the implementation of those contracts\n",
    "\n",
    "* decorator:\n",
    "A decorator in Python is a function that takes another function as its argument, and returns yet another function . Decorators can be extremely useful as they allow the extension of an existing function, without any modification to the original function source code."
   ]
  },
  {
   "cell_type": "code",
   "execution_count": 7,
   "id": "3cb94885",
   "metadata": {},
   "outputs": [
    {
     "name": "stdout",
     "output_type": "stream",
     "text": [
      "Welcome to bank\n",
      "In SBI bank 5 rupees interest\n",
      "Welcome to bank\n",
      "In HDFC 7 rupees interest\n"
     ]
    }
   ],
   "source": [
    "from abc import ABC, abstractmethod\n",
    "#Abstract Class\n",
    "class Bank(ABC):\n",
    "   def bank_info(self):\n",
    "       print(\"Welcome to bank\")\n",
    "   @abstractmethod\n",
    "   def interest(self):\n",
    "       \"Abstarct Method\"\n",
    "       pass\n",
    "   def offers(self):\n",
    "       print(\"Providing offers\")  \n",
    "#Sub class/ child class of abstract class\n",
    "class SBI(Bank):\n",
    "   def interest(self):\n",
    "       print(\"In SBI bank 5 rupees interest\")\n",
    "class HDFC(Bank):\n",
    "   def interest(self):\n",
    "       print(\"In HDFC 7 rupees interest\")\n",
    "  \n",
    "s= SBI()\n",
    "h=HDFC()\n",
    "s.bank_info()\n",
    "s.interest()\n",
    "h.bank_info()\n",
    "h.interest()"
   ]
  },
  {
   "cell_type": "code",
   "execution_count": 9,
   "id": "2f200342",
   "metadata": {},
   "outputs": [
    {
     "name": "stdout",
     "output_type": "stream",
     "text": [
      "square:  9\n",
      "cube:  125\n"
     ]
    }
   ],
   "source": [
    "from abc import ABC, abstractmethod\n",
    "class One(ABC):\n",
    "   @abstractmethod\n",
    "   def calculate(self, a):\n",
    "       pass\n",
    "   def m1(self):\n",
    "       print(\"implemented method\")\n",
    "class Square(One):\n",
    "   def calculate(self, a):\n",
    "       print(\"square: \", (a*a))\n",
    "class Cube(One):\n",
    "   def calculate(self, a):\n",
    "       print(\"cube: \", (a*a*a))\n",
    "s = Square()\n",
    "c = Cube()\n",
    "s.calculate(3)\n",
    "c.calculate(5)"
   ]
  },
  {
   "cell_type": "code",
   "execution_count": 5,
   "id": "8f8334c6",
   "metadata": {},
   "outputs": [
    {
     "name": "stdout",
     "output_type": "stream",
     "text": [
      "Name: Shashi, Pay: 250000, Exp: 5\n"
     ]
    }
   ],
   "source": [
    "## multiple inheritence\n",
    "\n",
    "# Parent class 1\n",
    "class TeamMember(object):                   \n",
    "   def __init__(self, name, uid): \n",
    "      self.name = name \n",
    "      self.uid = uid \n",
    "  \n",
    "# Parent class 2\n",
    "class Worker(object):                 \n",
    "   def __init__(self, pay, jobtitle): \n",
    "      self.pay = pay \n",
    "      self.jobtitle = jobtitle \n",
    "  \n",
    "# Deriving a child class from the two parent classes\n",
    "class TeamLeader(TeamMember, Worker):         \n",
    "   def __init__(self, name, uid, pay, jobtitle, exp): \n",
    "      self.exp = exp \n",
    "      TeamMember.__init__(self, name, uid) \n",
    "      Worker.__init__(self, pay, jobtitle)\n",
    "      print(\"Name: {}, Pay: {}, Exp: {}\".format(self.name, self.pay, self.exp))\n",
    "\n",
    "TL = TeamLeader('Shashi', 10001, 250000, 'Scrum Master', 5)"
   ]
  },
  {
   "cell_type": "code",
   "execution_count": 6,
   "id": "ddc20c44",
   "metadata": {},
   "outputs": [
    {
     "name": "stdout",
     "output_type": "stream",
     "text": [
      "This is a decorated function.\n",
      "The addition is : 12\n",
      "The subtraction is : 4\n",
      "The product is : 32\n",
      "The division is : 2.0\n",
      "The remainder is : 0\n"
     ]
    }
   ],
   "source": [
    "def arithmetic_operations(func):\n",
    "    def operators(a, b):\n",
    "        func(a, b)\n",
    "        print(\"The product is :\", a*b)\n",
    "        print(\"The division is :\", a/b)\n",
    "        print(\"The remainder is :\", a%b)\n",
    "    return operators\n",
    "         \n",
    "print(\"This is a decorated function.\")\n",
    "\n",
    "@arithmetic_operations\n",
    "def add_and_subtract(a, b):\n",
    "    print(\"The addition is :\", a + b)\n",
    "    print(\"The subtraction is :\", a - b)\n",
    "\n",
    "add_and_subtract(8, 4)"
   ]
  },
  {
   "cell_type": "code",
   "execution_count": null,
   "id": "c2e1bab0",
   "metadata": {},
   "outputs": [],
   "source": []
  }
 ],
 "metadata": {
  "kernelspec": {
   "display_name": "Python 3 (ipykernel)",
   "language": "python",
   "name": "python3"
  },
  "language_info": {
   "codemirror_mode": {
    "name": "ipython",
    "version": 3
   },
   "file_extension": ".py",
   "mimetype": "text/x-python",
   "name": "python",
   "nbconvert_exporter": "python",
   "pygments_lexer": "ipython3",
   "version": "3.9.12"
  }
 },
 "nbformat": 4,
 "nbformat_minor": 5
}
